{
 "cells": [
  {
   "cell_type": "code",
   "execution_count": 1,
   "metadata": {},
   "outputs": [],
   "source": [
    "import pylab\n",
    "import numpy as np\n",
    "import random\n",
    "import math"
   ]
  },
  {
   "cell_type": "code",
   "execution_count": 2,
   "metadata": {},
   "outputs": [],
   "source": [
    "L = 20\n",
    "N = L**2 #number of spins\n",
    "J = 1.0 #coupling strength"
   ]
  },
  {
   "cell_type": "code",
   "execution_count": 3,
   "metadata": {},
   "outputs": [],
   "source": [
    "#graphical visualisation of spins\n",
    "\n",
    "def create_picture(positions,colors): \n",
    "    pylab.figure(figsize=[5,5])\n",
    "    pylab.cla()\n",
    "    pylab.axis([0,L,0,L])\n",
    "    pylab.setp(pylab.gca())\n",
    "    for pos,col in zip(positions,colors):\n",
    "        square=pylab.Rectangle((pos[0],pos[1]),0.8,0.8,fc=col)\n",
    "        pylab.gca().add_patch(square)\n",
    "    pylab.show()    \n",
    "\n",
    "def color(i):\n",
    "    if i==1: return 'r' #Red:'up'\n",
    "    else: return 'b' #Blue: 'down'"
   ]
  },
  {
   "cell_type": "code",
   "execution_count": 4,
   "metadata": {},
   "outputs": [],
   "source": [
    "# compute neighbours for ith spin (identification of opposite edges is taken into account)\n",
    "\n",
    "def right(i): # neighbor to the right\n",
    "     if(i+1)%L==0:return i+1-L\n",
    "     else: return i+1\n",
    "    \n",
    "def left(i): # neighbor to the left\n",
    "    if i%L==0:return i-1+L\n",
    "    else: return i-1\n",
    "    \n",
    "def up(i): # neighbor up\n",
    "    return(i+L)%N\n",
    "\n",
    "def down(i):#neighbor down\n",
    "    return (i-L+N)%N"
   ]
  },
  {
   "cell_type": "code",
   "execution_count": 5,
   "metadata": {},
   "outputs": [],
   "source": [
    "neighbors = [[right(i),left(i),up(i),down(i)] for i in range(N)] # neighbor table\n",
    "coordinates = [[i%L,i//L] for i in range(N)] # coordinates of spins(squares) for graphical output\n",
    "\n",
    "orientations = [-1,1]\n",
    "spins = []\n",
    "colors = []\n",
    "\n",
    "# Initial random spin assignment\n",
    "\n",
    "for i in range(N):\n",
    "    spin=random.choice(orientations)\n",
    "    spins.append(spin)"
   ]
  },
  {
   "cell_type": "code",
   "execution_count": 6,
   "metadata": {},
   "outputs": [
    {
     "name": "stdout",
     "output_type": "stream",
     "text": [
      "  adjustable: {'box', 'datalim'}\n",
      "  agg_filter: a filter function, which takes a (m, n, 3) float array and a dpi value, and returns a (m, n, 3) array\n",
      "  alpha: float or None\n",
      "  anchor: 2-tuple of floats or {'C', 'SW', 'S', 'SE', ...}\n",
      "  animated: bool\n",
      "  aspect: {'auto', 'equal'} or num\n",
      "  autoscale_on: bool\n",
      "  autoscalex_on: bool\n",
      "  autoscaley_on: bool\n",
      "  axes_locator: Callable[[Axes, Renderer], Bbox]\n",
      "  axisbelow: bool or 'line'\n",
      "  clip_box: `.Bbox`\n",
      "  clip_on: bool\n",
      "  clip_path: Patch or (Path, Transform) or None\n",
      "  contains: callable\n",
      "  facecolor: color\n",
      "  fc: color\n",
      "  figure: `.Figure`\n",
      "  frame_on: bool\n",
      "  gid: str\n",
      "  in_layout: bool\n",
      "  label: object\n",
      "  navigate: bool\n",
      "  navigate_mode: unknown\n",
      "  path_effects: `.AbstractPathEffect`\n",
      "  picker: None or bool or float or callable\n",
      "  position: [left, bottom, width, height] or `~matplotlib.transforms.Bbox`\n",
      "  prop_cycle: unknown\n",
      "  rasterization_zorder: float or None\n",
      "  rasterized: bool or None\n",
      "  sketch_params: (scale: float, length: float, randomness: float)\n",
      "  snap: bool or None\n",
      "  subplotspec: unknown\n",
      "  title: str\n",
      "  transform: `.Transform`\n",
      "  url: str\n",
      "  visible: bool\n",
      "  xbound: unknown\n",
      "  xlabel: str\n",
      "  xlim: (bottom: float, top: float)\n",
      "  xmargin: float greater than -0.5\n",
      "  xscale: {\"linear\", \"log\", \"symlog\", \"logit\", ...}\n",
      "  xticklabels: List[str]\n",
      "  xticks: unknown\n",
      "  ybound: unknown\n",
      "  ylabel: str\n",
      "  ylim: (bottom: float, top: float)\n",
      "  ymargin: float greater than -0.5\n",
      "  yscale: {\"linear\", \"log\", \"symlog\", \"logit\", ...}\n",
      "  yticklabels: List[str]\n",
      "  yticks: unknown\n",
      "  zorder: float\n"
     ]
    },
    {
     "data": {
      "image/png": "[encoded data removed]",
      "text/plain": [
       "<Figure size 360x360 with 1 Axes>"
      ]
     },
     "metadata": {
      "needs_background": "light"
     },
     "output_type": "display_data"
    }
   ],
   "source": [
    "colors = []\n",
    "\n",
    "nsteps = 1000*N # Number of steps in the Metropolis algorithm\n",
    "T = 3.0 # Temperature measured in units of J/K_B\n",
    "beta = 1/T\n",
    "\n",
    "# Metropolis algorithm\n",
    "\n",
    "for step in range(nsteps):\n",
    "    k = random.randint(0,N-1) # Random spin choice\n",
    "    delta_E = 2.0*spins[k]*np.sum(np.fromiter((spins[j] for j in neighbors[k]),float)) # Change in energy\n",
    "    if random.uniform(0.0,1.0) < math.exp(-beta*delta_E): # Metropolis acceptance probability\n",
    "        spins[k] *= -1\n",
    "\n",
    "for i in range(N):\n",
    "    colors.append(color(spins[i]))\n",
    "\n",
    "create_picture(coordinates,colors)\n",
    "pylab.show()"
   ]
  },
  {
   "cell_type": "code",
   "execution_count": null,
   "metadata": {},
   "outputs": [],
   "source": []
  }
 ],
 "metadata": {
  "kernelspec": {
   "display_name": "Python 3",
   "language": "python",
   "name": "python3"
  },
  "language_info": {
   "codemirror_mode": {
    "name": "ipython",
    "version": 3
   },
   "file_extension": ".py",
   "mimetype": "text/x-python",
   "name": "python",
   "nbconvert_exporter": "python",
   "pygments_lexer": "ipython3",
   "version": "3.8.5"
  }
 },
 "nbformat": 4,
 "nbformat_minor": 4
}
